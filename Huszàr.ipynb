{
 "cells": [
  {
   "cell_type": "markdown",
   "metadata": {},
   "source": [
    "We want to demonstrate equation (5) of [Ferenc Huszár, 2015](https://arxiv.org/abs/1511.05101v1)\n",
    "$$\\begin{align}\n",
    "D_{alternative}\\left[P\\mid\\mid Q\\right] & = KL\\left[P_{x_1}\\mid\\mid Q_{x_1}\\right] + \\mathbb{E}_{y\\sim P_{x_1}}\\mathbb{E}_{z\\sim Q_{x_1}}KL\\left[P_{x_2\\mid x_1=y}\\mid\\mid Q_{x_2\\mid x_1=z}\\right] (4)\\\\\n",
    "& = KL\\left[P_{x_1}\\mid\\mid Q_{x_1}\\right] + \\mathbb{E}_{z\\sim Q_{x_1}}KL\\left[P_{x_2}\\mid\\mid Q_{x_2\\mid x_1=z}\\right] (5)\n",
    "\\end{align}\n",
    "$$\n",
    "We study the second right hand side term of the first line (4)\n",
    "$$\\begin{align}\n",
    "\\mathbb{E}_{y\\sim P_{X_1}}\\mathbb{E}_{z\\sim Q_{X_1}}KL\\left[P_{X_2\\mid X_1=y}\\mid\\mid Q_{X_2\\mid X_1=z}\\right] \n",
    "& = \\mathbb{E}_{z\\sim Q_{X_1}}\\sum_{y\\sim P_{X_1}}P_{X_1}(X_1=y)\\sum_{x_2\\sim P_{X_2\\mid X_1=z}(\\cdot\\mid X_1=y)}P_{X_2\\mid X_1=y}(X_2=x_2\\mid X_1=y)\\log\\left[\\frac{P_{X_2\\mid X_1=y}(X_2=x_2\\mid X_1=y)}{ Q_{X_2=x_2\\mid X_1=z}(X_2=x_2\\mid X_1=z)}\\right]\\\\\n",
    "& = \\mathbb{E}_{z\\sim Q_{X_1}}\n",
    "\\sum_{(y, x2) \\sim P_{X_1, X_2}}P_{X_1, X_2}(X_1=y, X_2=x_2)\n",
    "\\log\\left[\\frac{P_{X_2\\mid X_1=y}(X_2=x_2\\mid X_1=y)}{ Q_{X_2\\mid X_1=z}(X_2=x_2\\mid X_1=z)}\\right]\\\\\n",
    "& = \\mathbb{E}_{z\\sim Q_{X_1}}\n",
    "\\sum_{x_2\\sim P_{X_2}}P_{X_2}(X_2=x_2)\n",
    "\\sum_{y\\sim P_{X_1\\mid X_2=x_2}(\\cdot\\mid X_2=x_2)}P_{X_1\\mid X_2=x_2}(X_1=y\\mid X_2=x_2)\n",
    "\\log\\left[\\frac{P_{X_2\\mid X_1=y}(X_2=x_2\\mid X_1=y)}{ Q_{X_2=x_2\\mid X_1=z}(X_2=x_2\\mid X_1=z)}\\right]\\\\\n",
    "\\end{align}\n",
    "$$\n",
    "Now by Bayes' Rule we know that:\n",
    "$$\n",
    "P_{X_2\\mid X_1=y}(X_2=x_2\\mid X_1=y) = \\frac{P_{X_2}(X_2=x_2)}{P_{X_1}(X_1=y)}P_{X_1\\mid X_2=x_2}(X_1=y\\mid X_2=x_2)\n",
    "$$\n",
    "\n",
    "So we can bring all term that are only function of $x_2$ in our first sum to write our previous equation\n",
    "$$\\begin{align}\n",
    "\\mathbb{E}_{y\\sim P_{X_1}}\\mathbb{E}_{z\\sim Q_{X_1}}KL\\left[P_{X_2\\mid X_1=y}\\mid\\mid Q_{X_2\\mid X_1=z}\\right] \n",
    "& = \\mathbb{E}_{z\\sim Q_{X_1}}\n",
    "\\sum_{x_2\\sim P_{X_2}}P_{X_2}(X_2=x_2)\n",
    "\\log\\left[\\frac{P_{X_2}(X_2=x_2)}{ Q_{X_2=x_2\\mid X_1=z}(X_2=x_2\\mid X_1=z)}\\right]\n",
    "\\sum_{y\\sim P_{X_1\\mid X_2=x_2}(\\cdot\\mid X_2=x_2)}P_{X_1\\mid X_2=x_2}(X_1=y\\mid X_2=x_2)\n",
    "\\log\\left[\\frac{P_{X_1\\mid X_2=x_2}(X_1=y\\mid X_2=x_2)}{P_{X_1}(X_1=y)}\\right]\\\\\n",
    "\\end{align}$$\n",
    "\n",
    "If this last coefficient\n",
    "$$\\sum_{y\\sim P_{X_1\\mid X_2=x_2}(\\cdot\\mid X_2=x_2)}P_{X_1\\mid X_2=x_2}(X_1=y\\mid X_2=x_2)\n",
    "\\log\\left[\\frac{P_{X_1\\mid X_2=x_2}(X_1=y\\mid X_2=x_2)}{P_{X_1}(X_1=y)}\\right] \n",
    "= KL\\left[P_{X_1\\mid X_2=x_2}\\mid\\mid P_{X_1}\\right]$$\n",
    "is equal to one, we end up with the expression we were looking for \n",
    "$$\n",
    "\\mathbb{E}_{y\\sim P_{X_1}}\\mathbb{E}_{z\\sim Q_{X_1}}KL\\left[P_{X_2\\mid X_1=y}\\mid\\mid Q_{X_2\\mid X_1=z}\\right]= \\mathbb{E}_{z\\sim Q_{x_1}}KL\\left[P_{x_2}\\mid\\mid Q_{x_2\\mid x_1=z}\\right] $$\n",
    "But I must confess it is not clear to me why this KL-divergence should be equal to one..."
   ]
  },
  {
   "cell_type": "code",
   "execution_count": null,
   "metadata": {
    "collapsed": true
   },
   "outputs": [],
   "source": []
  }
 ],
 "metadata": {
  "anaconda-cloud": {},
  "kernelspec": {
   "display_name": "Python [Root]",
   "language": "python",
   "name": "Python [Root]"
  },
  "language_info": {
   "codemirror_mode": {
    "name": "ipython",
    "version": 3
   },
   "file_extension": ".py",
   "mimetype": "text/x-python",
   "name": "python",
   "nbconvert_exporter": "python",
   "pygments_lexer": "ipython3",
   "version": "3.5.2"
  }
 },
 "nbformat": 4,
 "nbformat_minor": 0
}
