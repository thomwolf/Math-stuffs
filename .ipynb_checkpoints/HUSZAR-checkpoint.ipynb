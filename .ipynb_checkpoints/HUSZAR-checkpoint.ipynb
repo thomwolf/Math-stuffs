{
 "cells": [
  {
   "cell_type": "markdown",
   "metadata": {},
   "source": [
    "We want to demonstrate equation (5) of [Ferenc Huszár, 2015](https://arxiv.org/abs/1511.05101v1)\n",
    "$$\n",
    "\\begin{aligned}\n",
    "D_{alternative}\\left[P\\mid\\mid Q\\right] & = KL\\left[P_{x_1}\\mid\\mid Q_{x_1}\\right] + \\mathbb{E}_{y\\sim P_{x_1}}\\mathbb{E}_{z\\sim Q_{x_1}}KL\\left[P_{x_2\\mid x_1=y}\\mid\\mid Q_{x_2\\mid x_1=z}\\right] (4)\\\\\n",
    "& = KL\\left[P_{x_1}\\mid\\mid Q_{x_1}\\right] + \\mathbb{E}_{z\\sim Q_{x_1}}KL\\left[P_{x_2}\\mid\\mid Q_{x_2\\mid x_1=z}\\right] (5)\n",
    "\\end{aligned}\n",
    "$$\n",
    "We study the second right hand side term of the first line (4)\n",
    "$$\n",
    "\\begin{aligned}\n",
    "\\mathbb{E}_{y\\sim P_{X_1}}\\mathbb{E}_{z\\sim Q_{X_1}}KL\\left[P_{X_2\\mid X_1=y}\\mid\\mid Q_{X_2\\mid X_1=z}\\right] \n",
    "& = \\mathbb{E}_{z\\sim Q_{X_1}}\\sum_{y\\sim P_{X_1}}P_{X_1}(X_1=y)\\sum_{x_2\\sim P_{X_2\\mid X_1=y}(\\cdot\\mid X_1=y)}P_{X_2\\mid X_1=y}(X_2=x_2\\mid X_1=y)\\log\\left[\\frac{P_{X_2\\mid X_1=y}(X_2=x_2\\mid X_1=y)}{ Q_{X_2=x_2\\mid X_1=z}(X_2=x_2\\mid X_1=z)}\\right]\\\\\n",
    "& = \\mathbb{E}_{z\\sim Q_{X_1}}\n",
    "\\sum_{(y, x2) \\sim P_{X_1, X_2}}P_{X_1, X_2}(X_1=y, X_2=x_2)\n",
    "\\log\\left[\\frac{P_{X_2\\mid X_1=y}(X_2=x_2\\mid X_1=y)}{ Q_{X_2\\mid X_1=z}(X_2=x_2\\mid X_1=z)}\\right]\\\\\n",
    "& = \\mathbb{E}_{z\\sim Q_{X_1}}\n",
    "\\sum_{x_2\\sim P_{X_2}}P_{X_2}(X_2=x_2)\n",
    "\\sum_{y\\sim P_{X_1\\mid X_2=x_2}(\\cdot\\mid X_2=x_2)}P_{X_1\\mid X_2=x_2}(X_1=y\\mid X_2=x_2)\n",
    "\\log\\left[\\frac{P_{X_2\\mid X_1=y}(X_2=x_2\\mid X_1=y)}{ Q_{X_2=x_2\\mid X_1=z}(X_2=x_2\\mid X_1=z)}\\right]\\\\\n",
    "\\end{aligned}\n",
    "$$\n",
    "Now by Bayes' Rule we know that:\n",
    "$$\n",
    "P_{X_2\\mid X_1=y}(X_2=x_2\\mid X_1=y) = \\frac{P_{X_2}(X_2=x_2)}{P_{X_1}(X_1=y)}P_{X_1\\mid X_2=x_2}(X_1=y\\mid X_2=x_2)\n",
    "$$"
   ]
  },
  {
   "cell_type": "code",
   "execution_count": 1,
   "metadata": {
    "ExecuteTime": {
     "end_time": "2017-07-19T08:23:02.887321",
     "start_time": "2017-07-19T08:23:02.849625Z"
    },
    "collapsed": false
   },
   "outputs": [
    {
     "ename": "SyntaxError",
     "evalue": "invalid syntax (<ipython-input-1-917a01d0bef1>, line 1)",
     "output_type": "error",
     "traceback": [
      "\u001b[0;36m  File \u001b[0;32m\"<ipython-input-1-917a01d0bef1>\"\u001b[0;36m, line \u001b[0;32m1\u001b[0m\n\u001b[0;31m    So we can separate the terms that are only function of $x_2$ and $z$ as\u001b[0m\n\u001b[0m        ^\u001b[0m\n\u001b[0;31mSyntaxError\u001b[0m\u001b[0;31m:\u001b[0m invalid syntax\n"
     ]
    }
   ],
   "source": [
    "So we can separate the terms that are only function of $x_2$ and $z$ as\n",
    "$$\n",
    "\\begin{aligned}\n",
    "\\mathbb{E}_{y\\sim P_{X_1}}\\mathbb{E}_{z\\sim Q_{X_1}}KL\\left[P_{X_2\\mid X_1=y}\\mid\\mid Q_{X_2\\mid X_1=z}\\right] \n",
    "& = \\mathbb{E}_{z\\sim Q_{X_1}}\n",
    "\\sum_{x_2\\sim P_{X_2}}P_{X_2}(X_2=x_2)\n",
    "\\log\\left[\\frac{P_{X_2}(X_2=x_2)}{ Q_{X_2=x_2\\mid X_1=z}(X_2=x_2\\mid X_1=z)}\\right]\\\\\n",
    "&\\sum_{y\\sim P_{X_1\\mid X_2=x_2}(\\cdot\\mid X_2=x_2)}P_{X_1\\mid X_2=x_2}(X_1=y\\mid X_2=x_2)\n",
    "\\log\\left[\\frac{P_{X_1\\mid X_2=x_2}(X_1=y\\mid X_2=x_2)}{P_{X_1}(X_1=y)}\\right]\\\\\n",
    "\\end{aligned}\n",
    "$$\n",
    "\n",
    "If this last coefficient\n",
    "$$\\sum_{y\\sim P_{X_1\\mid X_2=x_2}(\\cdot\\mid X_2=x_2)}P_{X_1\\mid X_2=x_2}(X_1=y\\mid X_2=x_2)\n",
    "\\log\\left[\\frac{P_{X_1\\mid X_2=x_2}(X_1=y\\mid X_2=x_2)}{P_{X_1}(X_1=y)}\\right] \n",
    "= KL\\left[P_{X_1\\mid X_2=x_2}\\mid\\mid P_{X_1}\\right]$$\n",
    "is equal to one, we end up with the expression we were looking for \n",
    "$$\n",
    "\\mathbb{E}_{y\\sim P_{X_1}}\\mathbb{E}_{z\\sim Q_{X_1}}KL\\left[P_{X_2\\mid X_1=y}\\mid\\mid Q_{X_2\\mid X_1=z}\\right]= \\mathbb{E}_{z\\sim Q_{x_1}}KL\\left[P_{x_2}\\mid\\mid Q_{x_2\\mid x_1=z}\\right] $$\n",
    "But I must confess it is not clear to me why this KL-divergence should be equal to one..."
   ]
  },
  {
   "cell_type": "code",
   "execution_count": null,
   "metadata": {
    "collapsed": true
   },
   "outputs": [],
   "source": []
  }
 ],
 "metadata": {
  "anaconda-cloud": {},
  "hide_input": false,
  "kernelspec": {
   "display_name": "Python [ipykernel_py3]",
   "language": "python",
   "name": "Python [ipykernel_py3]"
  },
  "language_info": {
   "codemirror_mode": {
    "name": "ipython",
    "version": 3
   },
   "file_extension": ".py",
   "mimetype": "text/x-python",
   "name": "python",
   "nbconvert_exporter": "python",
   "pygments_lexer": "ipython3",
   "version": "3.6.1"
  },
  "toc": {
   "colors": {
    "hover_highlight": "#DAA520",
    "running_highlight": "#FF0000",
    "selected_highlight": "#FFD700"
   },
   "moveMenuLeft": true,
   "nav_menu": {
    "height": "11px",
    "width": "251px"
   },
   "navigate_menu": true,
   "number_sections": true,
   "sideBar": true,
   "threshold": 4,
   "toc_cell": false,
   "toc_section_display": "block",
   "toc_window_display": false
  }
 },
 "nbformat": 4,
 "nbformat_minor": 0
}
